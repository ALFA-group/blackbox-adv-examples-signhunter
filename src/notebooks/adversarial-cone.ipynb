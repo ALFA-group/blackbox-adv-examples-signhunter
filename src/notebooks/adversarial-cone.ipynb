{
 "cells": [
  {
   "cell_type": "markdown",
   "metadata": {},
   "source": [
    "Given a vector $v\\in \\{-1,+1\\}^n$, we are interested in the set of $k$ orthogonal vectors $r_1,\\ldots, r_k \\in \\{-1,+1\\}^n$, that solves\n",
    "$$\\max_{\\{r_i\\}_k}\\min_{i\\in [k]}v^Tr_i$$\n",
    "\n",
    "From Tramer et al., 2018, it was shown that if for all $i$, $v^Tr_i \\geq \\alpha  n$ for $\\alpha \\in (0,1)$, then $\\alpha \\leq 1/\\sqrt{k}$. In other words, $OPT=n/\\sqrt{k}$. Let's denote by $R$ the matrix formed by stacking $r_i$ vertically."
   ]
  },
  {
   "cell_type": "code",
   "execution_count": 58,
   "metadata": {},
   "outputs": [],
   "source": [
    "from scipy.linalg import hadamard\n",
    "import numpy as np\n",
    "import itertools"
   ]
  },
  {
   "cell_type": "code",
   "execution_count": 59,
   "metadata": {},
   "outputs": [],
   "source": [
    "# dim\n",
    "n = 108 # imagenet dim\n",
    "# adv cone size < n\n",
    "k = 36\n",
    "# target vector\n",
    "v = np.sign(np.random.randn(n))\n",
    "OPT= n / np.sqrt(k)"
   ]
  },
  {
   "cell_type": "markdown",
   "metadata": {},
   "source": [
    "#### Naive Construction\n",
    "\n",
    "The following naive method (Tramer et al, 2018) can be used to achieve ~$n/k$, a factor of $\\sqrt{k}$ worse than OPT, assuming $k$ divides $n$."
   ]
  },
  {
   "cell_type": "code",
   "execution_count": 60,
   "metadata": {},
   "outputs": [],
   "source": [
    "def chain_lol(lol):\n",
    "    return list(itertools.chain(*lol))\n",
    "\n",
    "def construct_idx(chunk_size, k, n):\n",
    "    \"\"\"a method to get 1d idxs for the R matrix used by the naive construction method\n",
    "    \"\"\"\n",
    "    return list(filter(\n",
    "        lambda x: x < n*k,\n",
    "        chain_lol(\n",
    "        [range(i*(chunk_size)+j,i*(chunk_size ) + chunk_size+j) for i,j in enumerate(range(0,n*k,n))])))\n",
    "\n",
    "def naive_R(n, k):\n",
    "    chunk_size = (n + k - 1) // k\n",
    "    R = np.zeros((k, n))\n",
    "    #print(construct_idx(chunk_size, k, n))\n",
    "    R.ravel()[construct_idx(chunk_size, k, n)] = v\n",
    "    return R"
   ]
  },
  {
   "cell_type": "code",
   "execution_count": 61,
   "metadata": {},
   "outputs": [],
   "source": [
    "R = naive_R(n,k)"
   ]
  },
  {
   "cell_type": "code",
   "execution_count": 62,
   "metadata": {},
   "outputs": [
    {
     "data": {
      "text/plain": [
       "(array([3., 3., 3., 3., 3., 3., 3., 3., 3., 3., 3., 3., 3., 3., 3., 3., 3.,\n",
       "        3., 3., 3., 3., 3., 3., 3., 3., 3., 3., 3., 3., 3., 3., 3., 3., 3.,\n",
       "        3., 3.]), 18.0)"
      ]
     },
     "execution_count": 62,
     "metadata": {},
     "output_type": "execute_result"
    }
   ],
   "source": [
    "R.dot(v), OPT "
   ]
  },
  {
   "cell_type": "markdown",
   "metadata": {},
   "source": [
    "A factor of 10 worse for Imagenet. Let's consider another construction from Tramer et al., 2018."
   ]
  },
  {
   "cell_type": "markdown",
   "metadata": {},
   "source": [
    "#### Tight Randomized Construction with Regular Hadamard matrix"
   ]
  },
  {
   "cell_type": "code",
   "execution_count": 63,
   "metadata": {},
   "outputs": [],
   "source": [
    "Hs = {\n",
    "    '4': np.load('../reg_hadamard_mats/reg_hadamard_mat_order-4.npy'),\n",
    "    '16':np.load('../reg_hadamard_mats/reg_hadamard_mat_order-16.npy'),\n",
    "    '36':np.load('../reg_hadamard_mats/reg_hadamard_mat_order-36.npy'),\n",
    "    '64':np.load('../reg_hadamard_mats/reg_hadamard_mat_order-64.npy'),\n",
    "    '100':np.load('../reg_hadamard_mats/reg_hadamard_mat_order-100.npy'),\n",
    "}"
   ]
  },
  {
   "cell_type": "code",
   "execution_count": 64,
   "metadata": {},
   "outputs": [],
   "source": [
    "H = Hs['100']"
   ]
  },
  {
   "cell_type": "code",
   "execution_count": 65,
   "metadata": {},
   "outputs": [],
   "source": [
    "k = H.shape[0]\n",
    "# target vector\n",
    "v = np.sign(np.random.randn(n))\n",
    "OPT= n / np.sqrt(k)"
   ]
  },
  {
   "cell_type": "code",
   "execution_count": 66,
   "metadata": {},
   "outputs": [],
   "source": [
    "R = np.zeros((k, n))\n",
    "R[:, :n // k * k ] = np.repeat(H, n // k, axis=1)\n",
    "R *= v[None, :]"
   ]
  },
  {
   "cell_type": "code",
   "execution_count": 67,
   "metadata": {},
   "outputs": [
    {
     "data": {
      "text/plain": [
       "(array([10., 10., 10., 10., 10., 10., 10., 10., 10., 10., 10., 10., 10.,\n",
       "        10., 10., 10., 10., 10., 10., 10., 10., 10., 10., 10., 10., 10.,\n",
       "        10., 10., 10., 10., 10., 10., 10., 10., 10., 10., 10., 10., 10.,\n",
       "        10., 10., 10., 10., 10., 10., 10., 10., 10., 10., 10., 10., 10.,\n",
       "        10., 10., 10., 10., 10., 10., 10., 10., 10., 10., 10., 10., 10.,\n",
       "        10., 10., 10., 10., 10., 10., 10., 10., 10., 10., 10., 10., 10.,\n",
       "        10., 10., 10., 10., 10., 10., 10., 10., 10., 10., 10., 10., 10.,\n",
       "        10., 10., 10., 10., 10., 10., 10., 10., 10.]), 10.8)"
      ]
     },
     "execution_count": 67,
     "metadata": {},
     "output_type": "execute_result"
    }
   ],
   "source": [
    "R.dot(v), OPT "
   ]
  },
  {
   "cell_type": "code",
   "execution_count": 68,
   "metadata": {},
   "outputs": [
    {
     "data": {
      "text/plain": [
       "array([10, 10, 10, 10, 10, 10, 10, 10, 10, 10, 10, 10, 10, 10, 10, 10, 10,\n",
       "       10, 10, 10, 10, 10, 10, 10, 10, 10, 10, 10, 10, 10, 10, 10, 10, 10,\n",
       "       10, 10, 10, 10, 10, 10, 10, 10, 10, 10, 10, 10, 10, 10, 10, 10, 10,\n",
       "       10, 10, 10, 10, 10, 10, 10, 10, 10, 10, 10, 10, 10, 10, 10, 10, 10,\n",
       "       10, 10, 10, 10, 10, 10, 10, 10, 10, 10, 10, 10, 10, 10, 10, 10, 10,\n",
       "       10, 10, 10, 10, 10, 10, 10, 10, 10, 10, 10, 10, 10, 10, 10])"
      ]
     },
     "execution_count": 68,
     "metadata": {},
     "output_type": "execute_result"
    }
   ],
   "source": [
    "sum(H)"
   ]
  },
  {
   "cell_type": "code",
   "execution_count": 69,
   "metadata": {},
   "outputs": [
    {
     "data": {
      "text/plain": [
       "array([[100,   0,   0, ...,   0,   0,   0],\n",
       "       [  0, 100,   0, ...,   0,   0,   0],\n",
       "       [  0,   0, 100, ...,   0,   0,   0],\n",
       "       ...,\n",
       "       [  0,   0,   0, ..., 100,   0,   0],\n",
       "       [  0,   0,   0, ...,   0, 100,   0],\n",
       "       [  0,   0,   0, ...,   0,   0, 100]])"
      ]
     },
     "execution_count": 69,
     "metadata": {},
     "output_type": "execute_result"
    }
   ],
   "source": [
    "H.dot(H.T)"
   ]
  },
  {
   "cell_type": "code",
   "execution_count": null,
   "metadata": {},
   "outputs": [],
   "source": []
  }
 ],
 "metadata": {
  "kernelspec": {
   "display_name": "Python 3",
   "language": "python",
   "name": "python3"
  }
 },
 "nbformat": 4,
 "nbformat_minor": 2
}
