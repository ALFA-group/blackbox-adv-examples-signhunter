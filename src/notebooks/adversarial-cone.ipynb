{
 "cells": [
  {
   "cell_type": "markdown",
   "metadata": {},
   "source": [
    "Given a vector $v\\in \\{-1,+1\\}^n$, we are interested in the set of $k$ orthogonal vectors $r_1,\\ldots, r_k \\in \\{-1,+1\\}^n$, that solves\n",
    "$$\\max_{\\{r_i\\}_k}\\min_{i\\in [k]}v^Tr_i$$\n",
    "\n",
    "From Tramer et al., 2018, it was shown that if for all $i$, $v^Tr_i \\geq \\alpha  n$ for $\\alpha \\in (0,1)$, then $\\alpha \\leq 1/\\sqrt{k}$. In other words, $OPT=n/\\sqrt{k}$. Let's denote by $R$ the matrix formed by stacking $r_i$ vertically."
   ]
  },
  {
   "cell_type": "code",
   "execution_count": 133,
   "metadata": {},
   "outputs": [],
   "source": [
    "from scipy.linalg import hadamard\n",
    "import numpy as np\n",
    "import itertools"
   ]
  },
  {
   "cell_type": "code",
   "execution_count": 134,
   "metadata": {},
   "outputs": [],
   "source": [
    "# dim\n",
    "n = 2682030 # imagenet dim\n",
    "# adv cone size < n\n",
    "k = 100\n",
    "# target vector\n",
    "v = np.sign(np.random.randn(n))\n",
    "OPT= n / np.sqrt(k)"
   ]
  },
  {
   "cell_type": "markdown",
   "metadata": {},
   "source": [
    "#### Naive Construction\n",
    "\n",
    "The following naive method (Tramer et al, 2018) can be used to achieve ~$n/k$, a factor of $\\sqrt{k}$ worse than OPT, assuming $k$ divides $n$."
   ]
  },
  {
   "cell_type": "code",
   "execution_count": 135,
   "metadata": {},
   "outputs": [],
   "source": [
    "def chain_lol(lol):\n",
    "    return list(itertools.chain(*lol))\n",
    "\n",
    "def construct_idx(chunk_size, k, n):\n",
    "    \"\"\"a method to get 1d idxs for the R matrix used by the naive construction method\n",
    "    \"\"\"\n",
    "    return filter(\n",
    "        lambda x: x < n*k,\n",
    "        chain_lol(\n",
    "        [range(i*(chunk_size)+j,i*(chunk_size ) + chunk_size+j) for i,j in enumerate(range(0,n*k,n))]))\n",
    "\n",
    "def naive_R(n, k):\n",
    "    chunk_size = (n + k - 1) // k\n",
    "    R = np.zeros((k, n))\n",
    "    R.ravel()[construct_idx(chunk_size, k, n)] = v\n",
    "    return R"
   ]
  },
  {
   "cell_type": "code",
   "execution_count": 136,
   "metadata": {},
   "outputs": [],
   "source": [
    "R = naive_R(n,k)"
   ]
  },
  {
   "cell_type": "code",
   "execution_count": 137,
   "metadata": {},
   "outputs": [
    {
     "data": {
      "text/plain": [
       "(array([26821., 26821., 26821., 26821., 26821., 26821., 26821., 26821.,\n",
       "        26821., 26821., 26821., 26821., 26821., 26821., 26821., 26821.,\n",
       "        26821., 26821., 26821., 26821., 26821., 26821., 26821., 26821.,\n",
       "        26821., 26821., 26821., 26821., 26821., 26821., 26821., 26821.,\n",
       "        26821., 26821., 26821., 26821., 26821., 26821., 26821., 26821.,\n",
       "        26821., 26821., 26821., 26821., 26821., 26821., 26821., 26821.,\n",
       "        26821., 26821., 26821., 26821., 26821., 26821., 26821., 26821.,\n",
       "        26821., 26821., 26821., 26821., 26821., 26821., 26821., 26821.,\n",
       "        26821., 26821., 26821., 26821., 26821., 26821., 26821., 26821.,\n",
       "        26821., 26821., 26821., 26821., 26821., 26821., 26821., 26821.,\n",
       "        26821., 26821., 26821., 26821., 26821., 26821., 26821., 26821.,\n",
       "        26821., 26821., 26821., 26821., 26821., 26821., 26821., 26821.,\n",
       "        26821., 26821., 26821., 26751.]), 268203.0)"
      ]
     },
     "execution_count": 137,
     "metadata": {},
     "output_type": "execute_result"
    }
   ],
   "source": [
    "R.dot(v), OPT "
   ]
  },
  {
   "cell_type": "markdown",
   "metadata": {},
   "source": [
    "A factor of 10 worse for Imagenet. Let's consider another construction from Tramer et al., 2018."
   ]
  },
  {
   "cell_type": "markdown",
   "metadata": {},
   "source": [
    "#### Tight Randomized Construction with Regular Hadamard matrix"
   ]
  },
  {
   "cell_type": "code",
   "execution_count": 149,
   "metadata": {},
   "outputs": [],
   "source": [
    "R  = hadamard(128)"
   ]
  },
  {
   "cell_type": "code",
   "execution_count": 155,
   "metadata": {},
   "outputs": [],
   "source": [
    "adjust = np.ones(128)\n",
    "adjust[64:] = -1"
   ]
  },
  {
   "cell_type": "code",
   "execution_count": 156,
   "metadata": {},
   "outputs": [
    {
     "data": {
      "text/plain": [
       "array([  0.,   0.,   0.,   0.,   0.,   0.,   0.,   0.,   0.,   0.,   0.,\n",
       "         0.,   0.,   0.,   0.,   0.,   0.,   0.,   0.,   0.,   0.,   0.,\n",
       "         0.,   0.,   0.,   0.,   0.,   0.,   0.,   0.,   0.,   0.,   0.,\n",
       "         0.,   0.,   0.,   0.,   0.,   0.,   0.,   0.,   0.,   0.,   0.,\n",
       "         0.,   0.,   0.,   0.,   0.,   0.,   0.,   0.,   0.,   0.,   0.,\n",
       "         0.,   0.,   0.,   0.,   0.,   0.,   0.,   0.,   0., 128.,   0.,\n",
       "         0.,   0.,   0.,   0.,   0.,   0.,   0.,   0.,   0.,   0.,   0.,\n",
       "         0.,   0.,   0.,   0.,   0.,   0.,   0.,   0.,   0.,   0.,   0.,\n",
       "         0.,   0.,   0.,   0.,   0.,   0.,   0.,   0.,   0.,   0.,   0.,\n",
       "         0.,   0.,   0.,   0.,   0.,   0.,   0.,   0.,   0.,   0.,   0.,\n",
       "         0.,   0.,   0.,   0.,   0.,   0.,   0.,   0.,   0.,   0.,   0.,\n",
       "         0.,   0.,   0.,   0.,   0.,   0.,   0.])"
      ]
     },
     "execution_count": 156,
     "metadata": {},
     "output_type": "execute_result"
    }
   ],
   "source": [
    "R.dot(adjust)"
   ]
  },
  {
   "cell_type": "code",
   "execution_count": null,
   "metadata": {
    "collapsed": true
   },
   "outputs": [],
   "source": []
  }
 ],
 "metadata": {
  "kernelspec": {
   "display_name": "Python [default]",
   "language": "python",
   "name": "python2"
  },
  "language_info": {
   "codemirror_mode": {
    "name": "ipython",
    "version": 2
   },
   "file_extension": ".py",
   "mimetype": "text/x-python",
   "name": "python",
   "nbconvert_exporter": "python",
   "pygments_lexer": "ipython2",
   "version": "2.7.15"
  }
 },
 "nbformat": 4,
 "nbformat_minor": 2
}
