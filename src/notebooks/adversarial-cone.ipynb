{
 "cells": [
  {
   "cell_type": "markdown",
   "metadata": {},
   "source": [
    "Given a vector $v\\in \\{-1,+1\\}^n$, we are interested in the set of $k$ orthogonal vectors $r_1,\\ldots, r_k \\in \\{-1,+1\\}^n$, that solves\n",
    "$$\\max_{\\{r_i\\}_k}\\min_{i\\in [k]}v^Tr_i$$\n",
    "\n",
    "From Tramer et al., 2018, it was shown that if for all $i$, $v^Tr_i \\geq \\alpha  n$ for $\\alpha \\in (0,1)$, then $\\alpha \\leq 1/\\sqrt{k}$. In other words, $OPT=n/\\sqrt{k}$. Let's denote by $R$ the matrix formed by stacking $r_i$ vertically."
   ]
  },
  {
   "cell_type": "code",
   "execution_count": 1,
   "metadata": {},
   "outputs": [],
   "source": [
    "from scipy.linalg import hadamard\n",
    "import numpy as np\n",
    "import itertools"
   ]
  },
  {
   "cell_type": "code",
   "execution_count": 2,
   "metadata": {},
   "outputs": [],
   "source": [
    "# dim\n",
    "n = 108 # imagenet dim\n",
    "# adv cone size < n\n",
    "k = 36\n",
    "# target vector\n",
    "v = np.sign(np.random.randn(n))\n",
    "OPT= n / np.sqrt(k)"
   ]
  },
  {
   "cell_type": "markdown",
   "metadata": {},
   "source": [
    "#### Naive Construction\n",
    "\n",
    "The following naive method (Tramer et al, 2018) can be used to achieve ~$n/k$, a factor of $\\sqrt{k}$ worse than OPT, assuming $k$ divides $n$."
   ]
  },
  {
   "cell_type": "code",
   "execution_count": 3,
   "metadata": {},
   "outputs": [],
   "source": [
    "def chain_lol(lol):\n",
    "    return list(itertools.chain(*lol))\n",
    "\n",
    "def construct_idx(chunk_size, k, n):\n",
    "    \"\"\"a method to get 1d idxs for the R matrix used by the naive construction method\n",
    "    \"\"\"\n",
    "    return list(filter(\n",
    "        lambda x: x < n*k,\n",
    "        chain_lol(\n",
    "        [range(i*(chunk_size)+j,i*(chunk_size ) + chunk_size+j) for i,j in enumerate(range(0,n*k,n))])))\n",
    "\n",
    "def naive_R(n, k):\n",
    "    chunk_size = (n + k - 1) // k\n",
    "    R = np.zeros((k, n))\n",
    "    #print(construct_idx(chunk_size, k, n))\n",
    "    R.ravel()[construct_idx(chunk_size, k, n)] = v\n",
    "    return R"
   ]
  },
  {
   "cell_type": "code",
   "execution_count": 4,
   "metadata": {},
   "outputs": [],
   "source": [
    "R = naive_R(n,k)"
   ]
  },
  {
   "cell_type": "code",
   "execution_count": 5,
   "metadata": {},
   "outputs": [
    {
     "data": {
      "text/plain": [
       "(array([3., 3., 3., 3., 3., 3., 3., 3., 3., 3., 3., 3., 3., 3., 3., 3., 3.,\n",
       "        3., 3., 3., 3., 3., 3., 3., 3., 3., 3., 3., 3., 3., 3., 3., 3., 3.,\n",
       "        3., 3.]), 18.0)"
      ]
     },
     "execution_count": 5,
     "metadata": {},
     "output_type": "execute_result"
    }
   ],
   "source": [
    "R.dot(v), OPT "
   ]
  },
  {
   "cell_type": "markdown",
   "metadata": {},
   "source": [
    "A factor of 10 worse for Imagenet. Let's consider another construction from Tramer et al., 2018."
   ]
  },
  {
   "cell_type": "markdown",
   "metadata": {},
   "source": [
    "#### Tight Randomized Construction with Regular Hadamard matrix"
   ]
  },
  {
   "cell_type": "code",
   "execution_count": 6,
   "metadata": {},
   "outputs": [],
   "source": [
    "Hs = {\n",
    "    '4': np.load('../reg_hadamard_mats/reg_hadamard_mat_order-4.npy'),\n",
    "    '16':np.load('../reg_hadamard_mats/reg_hadamard_mat_order-16.npy'),\n",
    "    '36':np.load('../reg_hadamard_mats/reg_hadamard_mat_order-36.npy'),\n",
    "    '64':np.load('../reg_hadamard_mats/reg_hadamard_mat_order-64.npy'),\n",
    "    '100':np.load('../reg_hadamard_mats/reg_hadamard_mat_order-100.npy'),\n",
    "}"
   ]
  },
  {
   "cell_type": "code",
   "execution_count": 7,
   "metadata": {},
   "outputs": [],
   "source": [
    "H = Hs['100']"
   ]
  },
  {
   "cell_type": "code",
   "execution_count": 8,
   "metadata": {},
   "outputs": [],
   "source": [
    "k = H.shape[0]\n",
    "# target vector\n",
    "v = np.sign(np.random.randn(n))\n",
    "OPT= n / np.sqrt(k)"
   ]
  },
  {
   "cell_type": "code",
   "execution_count": 9,
   "metadata": {},
   "outputs": [],
   "source": [
    "R = np.zeros((k, n))\n",
    "R[:, :n // k * k ] = np.repeat(H, n // k, axis=1)\n",
    "R *= v[None, :]"
   ]
  },
  {
   "cell_type": "code",
   "execution_count": 10,
   "metadata": {},
   "outputs": [
    {
     "data": {
      "text/plain": [
       "(array([10., 10., 10., 10., 10., 10., 10., 10., 10., 10., 10., 10., 10.,\n",
       "        10., 10., 10., 10., 10., 10., 10., 10., 10., 10., 10., 10., 10.,\n",
       "        10., 10., 10., 10., 10., 10., 10., 10., 10., 10., 10., 10., 10.,\n",
       "        10., 10., 10., 10., 10., 10., 10., 10., 10., 10., 10., 10., 10.,\n",
       "        10., 10., 10., 10., 10., 10., 10., 10., 10., 10., 10., 10., 10.,\n",
       "        10., 10., 10., 10., 10., 10., 10., 10., 10., 10., 10., 10., 10.,\n",
       "        10., 10., 10., 10., 10., 10., 10., 10., 10., 10., 10., 10., 10.,\n",
       "        10., 10., 10., 10., 10., 10., 10., 10., 10.]), 10.8)"
      ]
     },
     "execution_count": 10,
     "metadata": {},
     "output_type": "execute_result"
    }
   ],
   "source": [
    "R.dot(v), OPT "
   ]
  },
  {
   "cell_type": "code",
   "execution_count": 11,
   "metadata": {},
   "outputs": [
    {
     "data": {
      "text/plain": [
       "array([10, 10, 10, 10, 10, 10, 10, 10, 10, 10, 10, 10, 10, 10, 10, 10, 10,\n",
       "       10, 10, 10, 10, 10, 10, 10, 10, 10, 10, 10, 10, 10, 10, 10, 10, 10,\n",
       "       10, 10, 10, 10, 10, 10, 10, 10, 10, 10, 10, 10, 10, 10, 10, 10, 10,\n",
       "       10, 10, 10, 10, 10, 10, 10, 10, 10, 10, 10, 10, 10, 10, 10, 10, 10,\n",
       "       10, 10, 10, 10, 10, 10, 10, 10, 10, 10, 10, 10, 10, 10, 10, 10, 10,\n",
       "       10, 10, 10, 10, 10, 10, 10, 10, 10, 10, 10, 10, 10, 10, 10])"
      ]
     },
     "execution_count": 11,
     "metadata": {},
     "output_type": "execute_result"
    }
   ],
   "source": [
    "sum(H)"
   ]
  },
  {
   "cell_type": "code",
   "execution_count": 69,
   "metadata": {},
   "outputs": [
    {
     "data": {
      "text/plain": [
       "array([[100,   0,   0, ...,   0,   0,   0],\n",
       "       [  0, 100,   0, ...,   0,   0,   0],\n",
       "       [  0,   0, 100, ...,   0,   0,   0],\n",
       "       ...,\n",
       "       [  0,   0,   0, ..., 100,   0,   0],\n",
       "       [  0,   0,   0, ...,   0, 100,   0],\n",
       "       [  0,   0,   0, ...,   0,   0, 100]])"
      ]
     },
     "execution_count": 69,
     "metadata": {},
     "output_type": "execute_result"
    }
   ],
   "source": [
    "H.dot(H.T)"
   ]
  },
  {
   "cell_type": "markdown",
   "metadata": {},
   "source": [
    "In the above discussion, we considered the case where $||r_i||_\\infty\\leq1$ and $v\\in \\{-1,+1\\}^n$, how about the case of $||r_i||_2\\leq 1$ and $v\\in \\mathbb{R}^n$.\n",
    "\n",
    "A similar result can be shown such that $r_i^Tv \\geq k^{-1/2} ||v||$ with $k=\\min(\\lfloor 1/\\alpha^2 \\rfloor, d)$ (See Tramer et al., 2017). Let's define our setup below, before we show one possible construction."
   ]
  },
  {
   "cell_type": "code",
   "execution_count": 53,
   "metadata": {},
   "outputs": [],
   "source": [
    "n = 1000\n",
    "\n",
    "def ei(n, i):\n",
    "    \"\"\"return the ith basis vector\"\"\"\n",
    "    ei = np.zeros((n, 1))\n",
    "    ei[i] = 1\n",
    "    return ei\n",
    "\n",
    "v = np.random.randn(n,1)\n",
    "k = 6\n",
    "norm_v = np.linalg.norm(v)\n",
    "OPT = norm_v / np.sqrt(k)"
   ]
  },
  {
   "cell_type": "markdown",
   "metadata": {},
   "source": [
    "The following is one possible construction"
   ]
  },
  {
   "cell_type": "code",
   "execution_count": 54,
   "metadata": {},
   "outputs": [],
   "source": [
    "z = np.sum(np.eye(n)[:, :k], axis=1, keepdims=True) / np.sqrt(k)"
   ]
  },
  {
   "cell_type": "code",
   "execution_count": 55,
   "metadata": {},
   "outputs": [],
   "source": [
    "S = ei(n, 1).dot(v.T) / norm_v\n",
    "T = ei(n, 1).dot(z.T) / np.linalg.norm(z)**2\n",
    "U = S.T.dot(T)"
   ]
  },
  {
   "cell_type": "code",
   "execution_count": 56,
   "metadata": {},
   "outputs": [],
   "source": [
    "R = U.dot(np.eye(n)[:, :k])"
   ]
  },
  {
   "cell_type": "code",
   "execution_count": 57,
   "metadata": {},
   "outputs": [
    {
     "data": {
      "text/plain": [
       "(array([[13.24266379, 13.24266379, 13.24266379, 13.24266379, 13.24266379,\n",
       "         13.24266379]]), 13.242663787049473)"
      ]
     },
     "execution_count": 57,
     "metadata": {},
     "output_type": "execute_result"
    }
   ],
   "source": [
    "v.T.dot(R), OPT"
   ]
  },
  {
   "cell_type": "code",
   "execution_count": null,
   "metadata": {},
   "outputs": [],
   "source": []
  }
 ],
 "metadata": {
  "kernelspec": {
   "display_name": "Python 3",
   "language": "python",
   "name": "python3"
  },
  "language_info": {
   "codemirror_mode": {
    "name": "ipython",
    "version": 3
   },
   "file_extension": ".py",
   "mimetype": "text/x-python",
   "name": "python",
   "nbconvert_exporter": "python",
   "pygments_lexer": "ipython3",
   "version": "3.7.3"
  }
 },
 "nbformat": 4,
 "nbformat_minor": 2
}
